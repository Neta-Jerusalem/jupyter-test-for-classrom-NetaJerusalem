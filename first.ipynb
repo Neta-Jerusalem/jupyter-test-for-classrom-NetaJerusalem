{
 "cells": [
  {
   "cell_type": "code",
   "execution_count": 7,
   "id": "a0d1be31",
   "metadata": {},
   "outputs": [],
   "source": [
    "import ipywidgets as widgets\n",
    "from ipywidgets import interact\n",
    "import matplotlib.pyplot as plt\n",
    "import winsound as ws \n",
    "import numpy as np\n"
   ]
  },
  {
   "cell_type": "code",
   "execution_count": 3,
   "id": "97bbbfc8",
   "metadata": {},
   "outputs": [],
   "source": [
    "x = np.linspace(0,100,1000)\n",
    "def f(p):\n",
    "    ws.Beep(int(400*p),100)\n"
   ]
  },
  {
   "cell_type": "code",
   "execution_count": 5,
   "id": "2d925634",
   "metadata": {},
   "outputs": [
    {
     "data": {
      "application/vnd.jupyter.widget-view+json": {
       "model_id": "2f68b0beb0ba4dd6a8ab031579137f15",
       "version_major": 2,
       "version_minor": 0
      },
      "text/plain": [
       "interactive(children=(FloatSlider(value=1.0, description='p', max=10.0, min=0.1, step=1.0), Output()), _dom_cl…"
      ]
     },
     "metadata": {},
     "output_type": "display_data"
    }
   ],
   "source": [
    "b = interact(f,p=widgets.FloatSlider(min=0.1,max=10,step=1,value=1))"
   ]
  },
  {
   "cell_type": "code",
   "execution_count": null,
   "id": "a0d04f00",
   "metadata": {},
   "outputs": [],
   "source": []
  }
 ],
 "metadata": {
  "kernelspec": {
   "display_name": "Python 3.10.2 64-bit",
   "language": "python",
   "name": "python3"
  },
  "language_info": {
   "codemirror_mode": {
    "name": "ipython",
    "version": 3
   },
   "file_extension": ".py",
   "mimetype": "text/x-python",
   "name": "python",
   "nbconvert_exporter": "python",
   "pygments_lexer": "ipython3",
   "version": "3.10.2"
  },
  "vscode": {
   "interpreter": {
    "hash": "26de051ba29f2982a8de78e945f0abaf191376122a1563185a90213a26c5da77"
   }
  }
 },
 "nbformat": 4,
 "nbformat_minor": 5
}
